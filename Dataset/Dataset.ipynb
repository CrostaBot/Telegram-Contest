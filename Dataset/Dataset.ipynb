{
 "cells": [
  {
   "cell_type": "code",
   "execution_count": 1,
   "metadata": {},
   "outputs": [],
   "source": [
    "import json\n",
    "import pprint as pp\n",
    "import re\n",
    "import csv"
   ]
  },
  {
   "cell_type": "code",
   "execution_count": 2,
   "metadata": {},
   "outputs": [],
   "source": [
    "# dataset class\n",
    "class Dataset:\n",
    "    def __init__(self, title, description, messages):\n",
    "        self.title = title\n",
    "        self.description = description\n",
    "        self.messages = messages\n",
    "        "
   ]
  },
  {
   "cell_type": "code",
   "execution_count": 3,
   "metadata": {},
   "outputs": [],
   "source": [
    "# functions: clean numbers, emojis, \\n etc\n",
    "emoji_pattern = re.compile(\"[\"\n",
    "        u\"\\U0001F600-\\U0001F64F\"  # emoticons\n",
    "        u\"\\U0001F300-\\U0001F5FF\"  # symbols & pictographs\n",
    "        u\"\\U0001F680-\\U0001F6FF\"  # transport & map symbols\n",
    "        u\"\\U0001F1E0-\\U0001F1FF\"  # flags (iOS)\n",
    "        u\"\\U0001F1F2-\\U0001F1F4\"  # Macau flag\n",
    "        u\"\\U0001F1E6-\\U0001F1FF\"  # flags\n",
    "        u\"\\U0001F600-\\U0001F64F\"\n",
    "        u\"\\U00002702-\\U000027B0\"\n",
    "        u\"\\U000024C2-\\U0001F251\"\n",
    "        u\"\\U0001f926-\\U0001f937\"\n",
    "        u\"\\U0001F1F2\"\n",
    "        u\"\\U0001F1F4\"\n",
    "        u\"\\U0001F620\"\n",
    "        u\"\\u200d\"\n",
    "        u\"\\u2640-\\u2642\"\n",
    "        \"]+\", flags=re.UNICODE)\n",
    "\n",
    "\n",
    "def clean_text(s):\n",
    "    s.replace('\\n', '')\n",
    "    s = emoji_pattern.sub(r'', s)\n",
    "    s = re.sub(r'^https?:\\/\\/.*[\\r\\n]*', '', s, flags=re.MULTILINE)\n",
    "    s = re.sub(\"_\", \" \", s)\n",
    "    s = re.sub(\"\\d+\", \" \", s)\n",
    "    s = re.sub(r'[^\\w]', ' ', s)\n",
    "    s = re.sub(r'\\^[a-zA-Z]\\s+', ' ', s)\n",
    "    s = re.sub(r'^b\\s+', '', s)\n",
    "    s = s.lower()\n",
    "    s = ' '.join(s.split())\n",
    "    \n",
    "    return s\n",
    "    \n"
   ]
  },
  {
   "cell_type": "code",
   "execution_count": 4,
   "metadata": {},
   "outputs": [
    {
     "name": "stdout",
     "output_type": "stream",
     "text": [
      "50050\n"
     ]
    }
   ],
   "source": [
    "# read input file and create dicts vector\n",
    "dictionaries = []\n",
    "with open('dc0202-input.txt', 'r') as f:\n",
    "    lines = f.readlines()\n",
    "    \n",
    "    for line in lines:\n",
    "        json_data = json.loads(line)\n",
    "        dictionaries.append(json_data)\n",
    "        \n",
    "print(len(dictionaries))\n"
   ]
  },
  {
   "cell_type": "code",
   "execution_count": 5,
   "metadata": {},
   "outputs": [
    {
     "name": "stdout",
     "output_type": "stream",
     "text": [
      "50050\n"
     ]
    }
   ],
   "source": [
    "# create dataset\n",
    "dataset = []\n",
    "\n",
    "\n",
    "for item in dictionaries:\n",
    "    \n",
    "    title = clean_text(item['title'])\n",
    "\n",
    "    description = clean_text(item['description'])\n",
    "    \n",
    "    for msg in item['recent_posts']:\n",
    "        text = clean_text(msg)\n",
    "        \n",
    "        messages = \"\"\n",
    "        if len(text.split()) < 10:\n",
    "            continue\n",
    "        else:\n",
    "            messages = messages + text + ' '\n",
    "          \n",
    "    messages = clean_text(messages)\n",
    "    data = Dataset(title, description, messages)\n",
    "    dataset.append(data)\n",
    "    \n",
    "print(len(dataset))\n"
   ]
  },
  {
   "cell_type": "code",
   "execution_count": 6,
   "metadata": {},
   "outputs": [],
   "source": [
    "# write in csv\n",
    "with open('dataset.csv', mode='w') as csv_file:\n",
    "    fieldnames = ['Title', 'Description', 'Messages']\n",
    "    writer = csv.DictWriter(csv_file, fieldnames=fieldnames)\n",
    "    writer.writeheader()\n",
    "    \n",
    "    for item in dataset:\n",
    "        writer.writerow({'Title': item.title, 'Description': item.description, 'Messages': item.messages})\n"
   ]
  },
  {
   "cell_type": "code",
   "execution_count": 8,
   "metadata": {},
   "outputs": [
    {
     "name": "stdout",
     "output_type": "stream",
     "text": [
      "awtar\n",
      "አውታር የኔ ምርጫ በኢትዮጵያ የመጀመሪያው የሙዚቃ መሸጫ የስልክ መተግበሪያ የሚወዷቸውን ሙዚቃዎች በነጠላ ዜማ እና በአልበም ገዝተው በማውረድ ይዝናኑ ለማንኛውም አስተያየት ወይም\n",
      "እንጫወት የ ሆን በሌ የተሰኘው የምናሉሽ ረታ ሙዚቃ ቅንብር የሰራው ማን ነው አውታር ጨዋታ awtarquiz awtarmusic awtarapp awtar ethiopia ethiopianmusic homeofethiopianmusic getitonawtar musicforeverymood musicians musiclovers picoftheday musiclife\n"
     ]
    }
   ],
   "source": [
    "print(dataset[5].title)\n",
    "print(dataset[5].description)\n",
    "print(dataset[5].messages)\n"
   ]
  },
  {
   "cell_type": "code",
   "execution_count": null,
   "metadata": {},
   "outputs": [],
   "source": []
  }
 ],
 "metadata": {
  "kernelspec": {
   "display_name": "Python 3",
   "language": "python",
   "name": "python3"
  },
  "language_info": {
   "codemirror_mode": {
    "name": "ipython",
    "version": 3
   },
   "file_extension": ".py",
   "mimetype": "text/x-python",
   "name": "python",
   "nbconvert_exporter": "python",
   "pygments_lexer": "ipython3",
   "version": "3.8.5"
  }
 },
 "nbformat": 4,
 "nbformat_minor": 4
}
