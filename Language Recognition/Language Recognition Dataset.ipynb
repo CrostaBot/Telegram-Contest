{
 "cells": [
  {
   "cell_type": "code",
   "execution_count": 1,
   "metadata": {},
   "outputs": [],
   "source": [
    "import csv\n",
    "import fasttext\n",
    "from collections import Counter"
   ]
  },
  {
   "cell_type": "code",
   "execution_count": 2,
   "metadata": {},
   "outputs": [],
   "source": [
    "class Dataset:\n",
    "    def __init__(self, title, description, messages, labels):\n",
    "        self.title = title\n",
    "        self.description = description\n",
    "        self.messages = messages\n",
    "        self.labels = labels\n",
    "        \n",
    "class RuDataset:\n",
    "    def __init__(self, title, description, messages):\n",
    "        self.title = title\n",
    "        self.description = description\n",
    "        self.messages = messages\n",
    "\n",
    "class EnDataset:\n",
    "    def __init__(self, title, description, messages):\n",
    "        self.title = title\n",
    "        self.description = description\n",
    "        self.messages = messages\n",
    "        "
   ]
  },
  {
   "cell_type": "code",
   "execution_count": 3,
   "metadata": {},
   "outputs": [
    {
     "name": "stderr",
     "output_type": "stream",
     "text": [
      "Warning : `load_model` does not return WordVectorModel or SupervisedModel any more, but a `FastText` object which is very similar.\n"
     ]
    },
    {
     "name": "stdout",
     "output_type": "stream",
     "text": [
      "26912\n"
     ]
    }
   ],
   "source": [
    "# PROBLEM WITH 1 VALUE RECORD\n",
    "fmodel = fasttext.load_model('lid.176.bin')\n",
    "lang_dataset = []\n",
    "errors = []\n",
    "\n",
    "with open('/Users/Nicola/Contest/Dataset/dataset.csv', newline='') as csvfile:\n",
    "    reader = csv.DictReader(csvfile)\n",
    "    for row in reader:\n",
    "        lang = fmodel.predict(row['Messages']) \n",
    "        \n",
    "        if lang[1] < 0.6:\n",
    "            continue\n",
    "        else:\n",
    "            lang = lang[0][0].replace('__label__', '')\n",
    "\n",
    "            if len(lang)>2:\n",
    "                lang = 'other'\n",
    "\n",
    "            lang_data = Dataset(row['Title'], row['Description'], row['Messages'], lang)\n",
    "            lang_dataset.append(lang_data)\n",
    "\n",
    "print(len(lang_dataset))\n"
   ]
  },
  {
   "cell_type": "code",
   "execution_count": 4,
   "metadata": {},
   "outputs": [],
   "source": [
    "# write in csv\n",
    "with open('dataset_language.csv', mode='w') as csv_file:\n",
    "    fieldnames = ['Messages', 'Language']\n",
    "    writer = csv.DictWriter(csv_file, fieldnames=fieldnames)\n",
    "    writer.writeheader()\n",
    "    \n",
    "    for item in lang_dataset:\n",
    "        writer.writerow({'Messages': item.messages, 'Language': item.labels })\n",
    "\n",
    "with open('dataset_topic.csv', mode='w') as csv_file:\n",
    "    fieldnames = ['Title', 'Description', 'Messages', 'Language']\n",
    "    writer = csv.DictWriter(csv_file, fieldnames=fieldnames)\n",
    "    writer.writeheader()\n",
    "    \n",
    "    for item in lang_dataset:\n",
    "        writer.writerow({'Title': item.title, 'Description': item.description, 'Messages': item.messages, 'Language': item.labels })\n"
   ]
  },
  {
   "cell_type": "code",
   "execution_count": 5,
   "metadata": {},
   "outputs": [
    {
     "name": "stdout",
     "output_type": "stream",
     "text": [
      "7222 6263\n"
     ]
    }
   ],
   "source": [
    "with open('dataset_topic.csv', newline='') as csvfile:\n",
    "    reader = csv.DictReader(csvfile)\n",
    "    ru = []\n",
    "    en = []\n",
    "    for row in reader:\n",
    "        if row['Language'] == 'ru':\n",
    "            data = RuDataset(row['Title'], row['Description'], row['Messages'])\n",
    "            ru.append(data)\n",
    "        if row['Language'] == 'en':\n",
    "            data = EnDataset(row['Title'], row['Description'], row['Messages'])\n",
    "            en.append(data)\n",
    "            \n",
    "print(len(ru), len(en))\n"
   ]
  },
  {
   "cell_type": "code",
   "execution_count": 6,
   "metadata": {},
   "outputs": [],
   "source": [
    "# write in csv\n",
    "with open('RU_data.csv', mode='w') as csv_file:\n",
    "    fieldnames = ['Title', 'Description', 'Messages']\n",
    "    writer = csv.DictWriter(csv_file, fieldnames=fieldnames)\n",
    "    writer.writeheader()\n",
    "    \n",
    "    for item in ru:\n",
    "        writer.writerow({'Title': item.title, 'Description': item.description, 'Messages': item.messages})\n",
    "\n",
    "# write in csv\n",
    "with open('EN_data.csv', mode='w') as csv_file:\n",
    "    fieldnames = ['Title', 'Description', 'Messages']\n",
    "    writer = csv.DictWriter(csv_file, fieldnames=fieldnames)\n",
    "    writer.writeheader()\n",
    "    \n",
    "    for item in en:\n",
    "        writer.writerow({'Title': item.title, 'Description': item.description, 'Messages': item.messages})\n"
   ]
  },
  {
   "cell_type": "code",
   "execution_count": null,
   "metadata": {},
   "outputs": [],
   "source": []
  }
 ],
 "metadata": {
  "kernelspec": {
   "display_name": "Python 3",
   "language": "python",
   "name": "python3"
  },
  "language_info": {
   "codemirror_mode": {
    "name": "ipython",
    "version": 3
   },
   "file_extension": ".py",
   "mimetype": "text/x-python",
   "name": "python",
   "nbconvert_exporter": "python",
   "pygments_lexer": "ipython3",
   "version": "3.8.5"
  }
 },
 "nbformat": 4,
 "nbformat_minor": 4
}
